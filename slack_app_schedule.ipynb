{
  "nbformat": 4,
  "nbformat_minor": 0,
  "metadata": {
    "colab": {
      "provenance": []
    },
    "kernelspec": {
      "name": "python3",
      "display_name": "Python 3"
    },
    "language_info": {
      "name": "python"
    }
  },
  "cells": [
    {
      "cell_type": "code",
      "execution_count": null,
      "metadata": {
        "id": "czU4BRSOTWCi"
      },
      "outputs": [],
      "source": [
        "from datetime import date,datetime, timedelta\n",
        "import pytz"
      ]
    },
    {
      "cell_type": "code",
      "source": [
        "import pandas as pd\n",
        "df = pd.read_csv('/content/Bot-Schedule-data.csv')\n",
        "df = df[df.columns[::-1]]\n",
        "df=df.fillna('')"
      ],
      "metadata": {
        "id": "dIjNgvKtT3vy"
      },
      "execution_count": null,
      "outputs": []
    },
    {
      "cell_type": "code",
      "source": [
        "df['09:00 -> 17:30'] = df['09:00 -> 17:30.1'].astype(str) + '&' + df['09:00 -> 17:30'].astype(str)\n",
        "df['10:00 -> 18:30'] = df['10:00 -> 18:30.1'].astype(str) + '&' + df['10:00 -> 18:30'].astype(str)\n",
        "df['17:00 -> 01:30'] = df['17:00 -> 01:30.1'].astype(str) + '&' + df['17:00 -> 01:30'].astype(str)\n",
        "df['18:00 -> 02:30'] = df['18:00 -> 02:30.1'].astype(str) + '&' + df['18:00 -> 02:30'].astype(str)"
      ],
      "metadata": {
        "id": "m9XljLNuj0ko"
      },
      "execution_count": null,
      "outputs": []
    },
    {
      "cell_type": "code",
      "source": [
        "df =df.drop(['09:00 -> 17:30.1','10:00 -> 18:30.1','17:00 -> 01:30.1','18:00 -> 02:30.1'],axis=1)"
      ],
      "metadata": {
        "id": "lFghLOVzkHYk"
      },
      "execution_count": null,
      "outputs": []
    },
    {
      "cell_type": "code",
      "source": [
        "df.index = [a for a in df['T/D']]\n",
        "df = df.drop(['T/D'],axis=1)"
      ],
      "metadata": {
        "id": "nqiMVNqrFOlz"
      },
      "execution_count": null,
      "outputs": []
    },
    {
      "cell_type": "code",
      "source": [
        "def schedule(df,day,time_exp):\n",
        "  day = date.today().strftime('%A')\n",
        "  df = df.loc[day]\n",
        "  for p in df[time_exp].split(\"&\"):\n",
        "    return(p)"
      ],
      "metadata": {
        "id": "5ZhpotOXoJKK"
      },
      "execution_count": null,
      "outputs": []
    },
    {
      "cell_type": "code",
      "source": [
        "def is_time_between(target_time, start_time, end_time):\n",
        "  target_minutes = int(target_time[:2]) * 60 + int(target_time[3:])\n",
        "  start_minutes = int(start_time[:2]) * 60 + int(start_time[3:])\n",
        "  end_minutes = int(end_time[:2]) * 60 + int(end_time[3:])\n",
        "  if end_minutes < start_minutes:\n",
        "    return start_minutes <= target_minutes or target_minutes <= end_minutes\n",
        "  else:\n",
        "    return start_minutes <= target_minutes <= end_minutes"
      ],
      "metadata": {
        "id": "edwEBD28BbQj"
      },
      "execution_count": null,
      "outputs": []
    },
    {
      "cell_type": "code",
      "source": [
        "shift(df)"
      ],
      "metadata": {
        "colab": {
          "base_uri": "https://localhost:8080/"
        },
        "id": "pfrr1GsHmAZZ",
        "outputId": "2c9f8347-77de-46b7-a863-a94411b87af0"
      },
      "execution_count": null,
    },
    {
      "cell_type": "code",
      "source": [
        "def shift(df, time= datetime.now(pytz.timezone('Africa/Cairo')).strftime(\"%H:%M\"), day= date.today().strftime('%A')):\n",
        "  for a in df.columns:\n",
        "    aa = a.split(' -> ')\n",
        "    target_time = time\n",
        "    start_time = aa[0]\n",
        "    end_time = aa[1]\n",
        "    if is_time_between(target_time, start_time, end_time):\n",
        "      print(f\"The {target_time} in {a} times.\")\n",
        "      c = schedule(df,time_exp=a,day=day)\n",
        "      print(c)\n",
        "\n"
      ],
      "metadata": {
        "id": "pf5U9PrRqkvh"
      },
      "execution_count": null,
      "outputs": []
    },
    {
      "cell_type": "code",
      "source": [
        "!pip install slack_sdk"
      ],
      "metadata": {
        "id": "VWLlTanHSy6a",
        "colab": {
          "base_uri": "https://localhost:8080/"
        },
        "outputId": "bcb4b64b-f217-4edb-a253-83e11cb0c29d"
      },
      "execution_count": null,
      "outputs": [
        {
          "output_type": "stream",
          "name": "stdout",
          "text": [
            "Requirement already satisfied: slack_sdk in /usr/local/lib/python3.10/dist-packages (3.27.1)\n"
          ]
        }
      ]
    },
    {
      "cell_type": "code",
      "source": [
        "shift(df)"
      ],
      "metadata": {
        "colab": {
          "base_uri": "https://localhost:8080/",
          "height": 245
        },
        "id": "0yx9vwyQlmVf",
        "outputId": "91760215-55a1-470b-d551-039676eb0c75"
      },
      "execution_count": null,
      
        }
      ]
    },
    {
      "cell_type": "code",
      "source": [
        "import os\n",
        "from slack_sdk import WebClient\n",
        "shift(df)\n",
        "#message = \"This is my first Slack message from Python!\"\n",
        "client = WebClient(token='xoxb-********-*********-***********')\n",
        "client.chat_postMessage(\n",
        "    channel=\"channel_name\",\n",
        "    text=f\"{shift(df)}\",)"
      ],
      "metadata": {
        "colab": {
          "base_uri": "https://localhost:8080/",
          "height": 428
        },
        "id": "efDuBL0MSt3H",
        "outputId": "c74882c9-c74f-4e33-b6e5-c30f113a2470"
      },
      "execution_count": null,
      "outputs": [
        {
          "output_type": "stream",
          "name": "stdout",
          "text": [
            "The 18:39 in 15:00 -> 23:30 times.\n",
            "The 18:39 in 15:00 -> 23:30 times.\n"
          ]
        },
        {
          "output_type": "stream",
          "name": "stderr",
          "text": [
            "/usr/local/lib/python3.10/dist-packages/slack_sdk/web/internal_utils.py:291: UserWarning: The top-level `text` argument is missing in the request payload for a chat.postMessage call - It's a best practice to always provide a `text` argument when posting a message. The `text` argument is used in places where content cannot be rendered such as: system push notifications, assistive technology such as screen readers, etc.\n",
            "  warnings.warn(missing_text_message, UserWarning)\n"
          ]
        },
       
      ]
    }
  ]
}
