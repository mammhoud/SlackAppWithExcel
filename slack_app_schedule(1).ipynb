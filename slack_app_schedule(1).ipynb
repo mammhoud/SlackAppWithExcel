{
  "nbformat": 4,
  "nbformat_minor": 0,
  "metadata": {
    "colab": {
      "provenance": []
    },
    "kernelspec": {
      "name": "python3",
      "display_name": "Python 3"
    },
    "language_info": {
      "name": "python"
    }
  },
  "cells": [
    {
      "cell_type": "code",
      "execution_count": null,
      "metadata": {
        "id": "czU4BRSOTWCi"
      },
      "outputs": [],
      "source": [
        "from datetime import date,datetime, timedelta\n",
        "import pytz"
      ]
    },
    {
      "cell_type": "code",
      "source": [
        "import pandas as pd\n",
        "df = pd.read_csv('/content/Bot-Schedule-data.csv')\n",
        "df = df[df.columns[::-1]]\n",
        "df=df.fillna('')"
      ],
      "metadata": {
        "id": "dIjNgvKtT3vy"
      },
      "execution_count": null,
      "outputs": []
    },
    {
      "cell_type": "code",
      "source": [
        "df['09:00 -> 17:30'] = df['09:00 -> 17:30.1'].astype(str) + '&' + df['09:00 -> 17:30'].astype(str)\n",
        "df['10:00 -> 18:30'] = df['10:00 -> 18:30.1'].astype(str) + '&' + df['10:00 -> 18:30'].astype(str)\n",
        "df['17:00 -> 01:30'] = df['17:00 -> 01:30.1'].astype(str) + '&' + df['17:00 -> 01:30'].astype(str)\n",
        "df['18:00 -> 02:30'] = df['18:00 -> 02:30.1'].astype(str) + '&' + df['18:00 -> 02:30'].astype(str)"
      ],
      "metadata": {
        "id": "m9XljLNuj0ko"
      },
      "execution_count": null,
      "outputs": []
    },
    {
      "cell_type": "code",
      "source": [
        "df =df.drop(['09:00 -> 17:30.1','10:00 -> 18:30.1','17:00 -> 01:30.1','18:00 -> 02:30.1'],axis=1)"
      ],
      "metadata": {
        "id": "lFghLOVzkHYk"
      },
      "execution_count": null,
      "outputs": []
    },
    {
      "cell_type": "code",
      "source": [
        "df.index = [a for a in df['T/D']]\n",
        "df = df.drop(['T/D'],axis=1)"
      ],
      "metadata": {
        "id": "nqiMVNqrFOlz"
      },
      "execution_count": null,
      "outputs": []
    },
    {
      "cell_type": "code",
      "source": [
        "def schedule(df,day,time_exp):\n",
        "  day = date.today().strftime('%A')\n",
        "  df = df.loc[day]\n",
        "  for p in df[time_exp].split(\"&\"):\n",
        "    return(p)"
      ],
      "metadata": {
        "id": "5ZhpotOXoJKK"
      },
      "execution_count": null,
      "outputs": []
    },
    {
      "cell_type": "code",
      "source": [
        "def is_time_between(target_time, start_time, end_time):\n",
        "  target_minutes = int(target_time[:2]) * 60 + int(target_time[3:])\n",
        "  start_minutes = int(start_time[:2]) * 60 + int(start_time[3:])\n",
        "  end_minutes = int(end_time[:2]) * 60 + int(end_time[3:])\n",
        "  if end_minutes < start_minutes:\n",
        "    return start_minutes <= target_minutes or target_minutes <= end_minutes\n",
        "  else:\n",
        "    return start_minutes <= target_minutes <= end_minutes"
      ],
      "metadata": {
        "id": "edwEBD28BbQj"
      },
      "execution_count": null,
      "outputs": []
    },
    {
      "cell_type": "code",
      "source": [
        "shift(df)"
      ],
      "metadata": {
        "id": "pfrr1GsHmAZZ"
      },
      "execution_count": null,
      "outputs": []
    },
    {
      "cell_type": "code",
      "source": [
        "def shift(df, time= datetime.now(pytz.timezone('Africa/Cairo')).strftime(\"%H:%M\"), day= date.today().strftime('%A')):\n",
        "  for a in df.columns:\n",
        "    aa = a.split(' -> ')\n",
        "    target_time = time\n",
        "    start_time = aa[0]\n",
        "    end_time = aa[1]\n",
        "    if is_time_between(target_time, start_time, end_time):\n",
        "      print(f\"The {target_time} in {a} times.\")\n",
        "      c = schedule(df,time_exp=a,day=day)\n",
        "      print(c)\n",
        "\n"
      ],
      "metadata": {
        "id": "pf5U9PrRqkvh"
      },
      "execution_count": null,
      "outputs": []
    },
    {
      "cell_type": "code",
      "source": [
        "!pip install slack_sdk"
      ],
      "metadata": {
        "id": "VWLlTanHSy6a"
      },
      "execution_count": null,
      "outputs": []
    },
    {
      "cell_type": "code",
      "source": [
        "shift(df)"
      ],
      "metadata": {
        "id": "0yx9vwyQlmVf"
      },
      "execution_count": null,
      "outputs": []
    },
    {
      "cell_type": "code",
      "source": [
        "import os\n",
        "from slack_sdk import WebClient\n",
        "shift(df)\n",
        "#message = \"This is my first Slack message from Python!\"\n",
        "client = WebClient(token='xoxb-********-*********-***********')\n",
        "client.chat_postMessage(\n",
        "    channel=\"channel_name\",\n",
        "    text=f\"{shift(df)}\",)"
      ],
      "metadata": {
        "id": "efDuBL0MSt3H"
      },
      "execution_count": null,
      "outputs": []
    }
  ]
}